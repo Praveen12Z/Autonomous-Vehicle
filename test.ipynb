{
 "cells": [
  {
   "cell_type": "markdown",
   "metadata": {},
   "source": [
    "## Project Overview"
   ]
  },
  {
   "cell_type": "markdown",
   "metadata": {},
   "source": [
    "The primary objective of this project is to employ deep learning techniques to train a Computer Vision model specialized in object detection, such that the model is working effectivelly in urban environment, with a focus on aiding autonomous vehicles in detecting and identifying objects.\n",
    "\n",
    "For achieving the main task, the following subtasks must be done:\n",
    "\n",
    "- Choosing dataset, which is suitable for object detection model training in urban environment.\n",
    "- Description and vizualization of the chosen dataset.\n",
    "- Preprocessing the dataset in order to improve training of the deep learning model.\n",
    "- Choosing the deep leagning approach for the model training.\n",
    "- Compare results of the trained model with reference benchmark.\n",
    "- Visualize you result on the video/gif."
   ]
  },
  {
   "cell_type": "markdown",
   "metadata": {},
   "source": [
    "## Set up"
   ]
  },
  {
   "cell_type": "markdown",
   "metadata": {},
   "source": [
    "Before moving to the main part, we need to execute the following steps:"
   ]
  },
  {
   "cell_type": "markdown",
   "metadata": {},
   "source": [
    "#### 1. Install dependencies: python packages"
   ]
  },
  {
   "cell_type": "code",
   "execution_count": null,
   "metadata": {},
   "outputs": [],
   "source": [
    "!pip install -r requirements.txt"
   ]
  },
  {
   "cell_type": "markdown",
   "metadata": {},
   "source": [
    "#### 2. Import all python packages/functions"
   ]
  },
  {
   "cell_type": "code",
   "execution_count": 4,
   "metadata": {},
   "outputs": [],
   "source": [
    "import os\n",
    "import fiftyone\n",
    "import json\n",
    "import os\n",
    "import shutil\n",
    "from ultralytics import YOLO\n",
    "from ultralytics.data.converter import convert_coco\n",
    "import torch\n",
    "import matplotlib.pyplot as plt"
   ]
  },
  {
   "cell_type": "markdown",
   "metadata": {},
   "source": [
    "## Dataset"
   ]
  },
  {
   "cell_type": "markdown",
   "metadata": {},
   "source": [
    "#### 1. Description\n",
    "\n",
    "Our Group decided to take COCO dataset (Common Objects in Context), which is widely known in Computer Vision community and often used as benchmark for computer vision models. It is comprised of a large collection of images that depict complex scenes with multiple objects in various contexts. The COCO dataset is particularly notable for its diversity, containing images captured in everyday settings such as streets, parks, and outdoor environments. This is perfectly suitable for our main goal: detecting objects in urban environment.\n",
    "\n",
    "**COCO dataset version:**\n",
    "\n",
    "- We will use the 2017 version.\n",
    "\n",
    "**COCO dataset image list structure:**\n",
    "- id – A unique identifier for the image. The id field maps to the id field in the annotations array (where bounding box information is stored).\n",
    "- license – Maps to the license array.\n",
    "- coco_url – The location of the image.\n",
    "- flickr_url – The location of the image on Flickr.\n",
    "- width – the width of the image.\n",
    "- height – The height of the image.\n",
    "- file_name – The image file name. In this example, file_name and id match, but this is not a requirement for COCO datasets.\n",
    "- date_captured – the date and time the image was captured.\n",
    "\n",
    "For our purpose we will need only id, width, height, file_name\n",
    "\n",
    "**COCO dataset structure of the labels:**\n",
    "- id – The identifier for the annotation.\n",
    "- image_id – Corresponds to the image id in the images array.\n",
    "- category_id – The identifier for the label that identifies the object within a bounding box. It maps to the id field of the categories array.\n",
    "- iscrowd – Specifies if the image contains a crowd of objects.\n",
    "- segmentation – Segmentation information for objects on an image. Amazon Rekognition Custom Labels doesn't support segmentation.\n",
    "- area – The area of the annotation.\n",
    "- bbox – Contains the coordinates, in pixels, of a bounding box around an object on the image.\n",
    "\n",
    "For our purposes we will need only image_id, category_id and bbox\n",
    "\n",
    "**COCO dataset category list structure:**\n",
    "- upercategory – The parent category for a label.\n",
    "- id – The label identifier. The id field maps to the category_id field in an annotation object. \n",
    "- name – the label name.\n",
    "\n",
    "For our purposes we need only id and name.\n",
    "\n",
    "**Dataset classes:**\n",
    "\n",
    "Dataset itself is quite big and it has 80 categories, but we don't need them all for our task. We decided to use only images, which could be useful for urban object detection, hence we downloaded only images, which contain the following objects:\n",
    " - person\n",
    " - bicycle\n",
    " - car\n",
    " - motorcycle\n",
    " - airplane\n",
    " - bus\n",
    " - train\n",
    " - truck\n",
    " - boat\n",
    " - traffic light\n",
    " - fire hydrant\n",
    " - stop sign\n",
    " - parking meter\n",
    " - bench\n",
    " - bird\n",
    " - cat\n",
    " - dog\n",
    " - horse\n",
    "\n"
   ]
  },
  {
   "cell_type": "markdown",
   "metadata": {},
   "source": [
    "#### 2. Load data\n",
    "\n",
    "We will use **fiftyone** library (https://docs.voxel51.com/user_guide/index.html) for download of the COCO dataset, which is a recommended way by COCO dataset maintainers. We will download **train** and **validation** splits, which contains 84k and 3.5k images respectively.\n",
    "\n",
    "After the execution of the function, the folder structre has the following hierarchy:\n",
    "\n",
    "- dataset\n",
    "    - raw\n",
    "        - json_file_1.json\n",
    "        - json_file_2.json\n",
    "    - train\n",
    "        - data\n",
    "            - image01_train.jpg\n",
    "            - image02_train.jpg\n",
    "            - ... \n",
    "        - labels.json\n",
    "    - validation\n",
    "        - data\n",
    "            - image01_val.jpg\n",
    "            - image02_val.jpg\n",
    "            - ... \n",
    "        - labels.json\n",
    "\n",
    "\n",
    "where **labels.json** files contains information about labels of the images. For out purposes we need only **train** and **validation** folders and we can neglect **raw** folder.\n"
   ]
  },
  {
   "cell_type": "code",
   "execution_count": 11,
   "metadata": {},
   "outputs": [
    {
     "name": "stdout",
     "output_type": "stream",
     "text": [
      "Downloading split 'train' to '/Users/daniil.yefimov/Desktop/GitHub/Autonomous-Vehicle/dataset/train' if necessary\n",
      "Downloading annotations to '/Users/daniil.yefimov/Desktop/GitHub/Autonomous-Vehicle/dataset/tmp-download/annotations_trainval2017.zip'\n",
      " 100% |██████|    1.9Gb/1.9Gb [16.5s elapsed, 0s remaining, 114.7Mb/s]      \n",
      "Extracting annotations to '/Users/daniil.yefimov/Desktop/GitHub/Autonomous-Vehicle/dataset/raw/instances_train2017.json'\n",
      "Downloading 84853 images\n",
      " 100% |██████████████| 84853/84853 [1.0h elapsed, 0s remaining, 20.2 images/s]      \n",
      "Writing annotations for 84853 downloaded samples to '/Users/daniil.yefimov/Desktop/GitHub/Autonomous-Vehicle/dataset/train/labels.json'\n",
      "Downloading split 'validation' to '/Users/daniil.yefimov/Desktop/GitHub/Autonomous-Vehicle/dataset/validation' if necessary\n",
      "Found annotations at '/Users/daniil.yefimov/Desktop/GitHub/Autonomous-Vehicle/dataset/raw/instances_val2017.json'\n",
      "Downloading 3574 images\n",
      " 100% |████████████████| 3574/3574 [2.7m elapsed, 0s remaining, 20.1 images/s]      \n",
      "Writing annotations for 3574 downloaded samples to '/Users/daniil.yefimov/Desktop/GitHub/Autonomous-Vehicle/dataset/validation/labels.json'\n",
      "Dataset info written to '/Users/daniil.yefimov/Desktop/GitHub/Autonomous-Vehicle/dataset/info.json'\n",
      "Loading 'coco-2017' split 'train'\n",
      " 100% |█████████████| 84853/84853 [5.8m elapsed, 0s remaining, 241.2 samples/s]      \n",
      "Loading 'coco-2017' split 'validation'\n",
      " 100% |███████████████| 3574/3574 [13.9s elapsed, 0s remaining, 278.7 samples/s]      \n",
      "Dataset 'coco-2017-train-validation' created\n"
     ]
    },
    {
     "data": {
      "text/plain": [
       "'\\ndataset_train.export(\\n    export_dir=\"/Users/daniil.yefimov/Desktop/GitHub/Autonomous-Vehicle/dataset/train\",\\n    dataset_type=fiftyone.types.COCODetectionDataset,\\n    label_field=\"ground_truth\"\\n)\\n'"
      ]
     },
     "execution_count": 11,
     "metadata": {},
     "output_type": "execute_result"
    }
   ],
   "source": [
    "categories = [\"person\",\"bicycle\",\"car\",\"motorcycle\", \"airplane\",\"bus\",\"train\",\"truck\",\"boat\",\"traffic light\",\"fire hydrant\",\"stop sign\",\"parking meter\",\"bench\",\"bird\",\"cat\",\"dog\",\"horse\"]\n",
    "\n",
    "# Load Training dataset\n",
    "dataset = fiftyone.zoo.load_zoo_dataset(\n",
    "    \"coco-2017\",\n",
    "    splits=[\"train\",'validation'],\n",
    "    label_types=\"detections\",\n",
    "    only_matching=True,\n",
    "    classes=categories,\n",
    "    dataset_dir = './dataset'\n",
    "    )\n"
   ]
  },
  {
   "cell_type": "markdown",
   "metadata": {},
   "source": [
    "#### 3. Bring Data into YOLO format:\n",
    "\n",
    "Before this step our data are in COCO format (see description above). In order to use the YOLO deep learning algorithm (will be discussed in the next section), we need to bring it into the correct YOLO format, which has the followinhg structure:\n",
    "\n",
    "- one *.txt file per image.\n",
    "- The *.txt file should be formatted with one row per object in [class x_center y_center width height] format (COCO format has [x_min, y_min, width, height] format )\n",
    "- Box coordinates must be in normalized xywh format (from 0 to 1).\n",
    "- Class numbers should be zero-indexed (COCO start with 1).\n",
    "\n",
    "For this transformation we will use **convert_coco** function from ultralytics (maintainers of YOLO).\n",
    "\n",
    "After this transformation the folder structrue has the following hierarchy:\n",
    "\n",
    "- dataset\n",
    "    - raw\n",
    "        - json_file_1.json\n",
    "        - json_file_2.json\n",
    "    - train\n",
    "        - images\n",
    "            - image01_train.jpg\n",
    "            - image02_train.jpg\n",
    "            - ... \n",
    "        - labels\n",
    "            - image01_label.txt\n",
    "            - image02_label.txt\n",
    "            - ... \n",
    "    - validation\n",
    "        - data\n",
    "            - image01_val.jpg\n",
    "            - image02_val.jpg\n",
    "            - ... \n",
    "        - labels\n",
    "            - image01_label.txt\n",
    "            - image02_label.txt\n",
    "            - ...\n"
   ]
  },
  {
   "cell_type": "code",
   "execution_count": null,
   "metadata": {},
   "outputs": [],
   "source": [
    "# Define pathes\n",
    "input_path = './dataset'\n",
    "\n",
    "#train yolo format\n",
    "convert_coco(labels_dir= os.path.join(input_path,'train'),save_dir = './converter_result')\n",
    "shutil.move('./converter_result/labels/labels', os.path.join(input_path,'train/labels'))\n",
    "shutil.rmtree('./converter_result')\n",
    "os.rename(os.path.join(input_path,'train/data'), os.path.join(input_path,'train/images'))\n",
    "\n",
    "\n",
    "#validation yolo format\n",
    "convert_coco(labels_dir=os.path.join(input_path,'validation'),save_dir = './converter_result')\n",
    "shutil.move('./converter_result/labels/labels', os.path.join(input_path,'validation/labels'))\n",
    "shutil.rmtree('./converter_result')\n",
    "os.rename(os.path.join(input_path,'validation/data'), os.path.join(input_path,'validation/images'))\n"
   ]
  },
  {
   "cell_type": "code",
   "execution_count": 3,
   "metadata": {},
   "outputs": [],
   "source": [
    "# Utilities\n",
    "\n",
    "# Read Json file\n",
    "def read_json_file(path):\n",
    "    f = open(path)\n",
    "    data = json.load(f)\n",
    "    f.close()\n",
    "    return data\n",
    "\n",
    "# Function to count occurrences of category_id numbers in the list\n",
    "def count_category_ids(data_list):\n",
    "    occurrences = {}\n",
    "\n",
    "    # Iterate over each dictionary in the list\n",
    "    for data in data_list:\n",
    "        category_id = data.get('category_id') - 1\n",
    "        # Count occurrences of the category_id\n",
    "        if category_id in occurrences:\n",
    "            occurrences[category_id] += 1\n",
    "        else:\n",
    "            occurrences[category_id] = 1\n",
    "    \n",
    "    return occurrences\n",
    "\n",
    "# Load Json anotation: dict_keys(['info', 'licenses', 'categories', 'images', 'annotations'])\n",
    "train_labels = read_json_file(os.path.join(input_path,'train/labels.json'))\n",
    "val_labels = read_json_file(os.path.join(input_path,'validation/labels.json'))\n",
    "\n",
    "# Count occurrences of category_id in both datasets\n",
    "train_labels_counts = count_category_ids(train_labels['annotations'])\n",
    "train_labels_counts = dict(sorted(train_labels_counts.items(), key=lambda x: x[0]))\n",
    "\n",
    "val_labels_counts = count_category_ids(val_labels['annotations'])\n",
    "val_labels_counts = dict(sorted(val_labels_counts.items(), key=lambda x: x[0]))\n",
    "\n",
    "\n",
    "# categories\n",
    "categories_labels = train_labels['categories'][:]\n",
    "\n",
    "# Decrease each \"id\" by 1\n",
    "for item in categories_labels:\n",
    "    item['id'] -= 1\n",
    "\n",
    "\n",
    "# labels selected by group\n",
    "main_categories_labels = [record for record in categories_labels if record['name'] in categories]"
   ]
  },
  {
   "cell_type": "code",
   "execution_count": 64,
   "metadata": {},
   "outputs": [
    {
     "data": {
      "text/plain": [
       "[{'supercategory': 'person', 'id': 0, 'name': 'person'},\n",
       " {'supercategory': 'vehicle', 'id': 1, 'name': 'bicycle'},\n",
       " {'supercategory': 'vehicle', 'id': 2, 'name': 'car'},\n",
       " {'supercategory': 'vehicle', 'id': 3, 'name': 'motorcycle'},\n",
       " {'supercategory': 'vehicle', 'id': 4, 'name': 'airplane'},\n",
       " {'supercategory': 'vehicle', 'id': 5, 'name': 'bus'},\n",
       " {'supercategory': 'vehicle', 'id': 6, 'name': 'train'},\n",
       " {'supercategory': 'vehicle', 'id': 7, 'name': 'truck'},\n",
       " {'supercategory': 'vehicle', 'id': 8, 'name': 'boat'},\n",
       " {'supercategory': 'outdoor', 'id': 9, 'name': 'traffic light'},\n",
       " {'supercategory': 'outdoor', 'id': 10, 'name': 'fire hydrant'},\n",
       " {'supercategory': 'outdoor', 'id': 12, 'name': 'stop sign'},\n",
       " {'supercategory': 'outdoor', 'id': 13, 'name': 'parking meter'},\n",
       " {'supercategory': 'outdoor', 'id': 14, 'name': 'bench'},\n",
       " {'supercategory': 'animal', 'id': 15, 'name': 'bird'},\n",
       " {'supercategory': 'animal', 'id': 16, 'name': 'cat'},\n",
       " {'supercategory': 'animal', 'id': 17, 'name': 'dog'},\n",
       " {'supercategory': 'animal', 'id': 18, 'name': 'horse'}]"
      ]
     },
     "execution_count": 64,
     "metadata": {},
     "output_type": "execute_result"
    }
   ],
   "source": [
    "main_categories_labels "
   ]
  },
  {
   "cell_type": "markdown",
   "metadata": {},
   "source": [
    "#### 4. Dataset Analysis"
   ]
  },
  {
   "cell_type": "markdown",
   "metadata": {},
   "source": [
    "**dataset sizes**"
   ]
  },
  {
   "cell_type": "code",
   "execution_count": 17,
   "metadata": {},
   "outputs": [
    {
     "data": {
      "image/png": "[encoded data removed]",
      "text/plain": [
       "<Figure size 864x576 with 1 Axes>"
      ]
     },
     "metadata": {
      "needs_background": "light"
     },
     "output_type": "display_data"
    }
   ],
   "source": [
    "import os\n",
    "import matplotlib.pyplot as plt\n",
    "\n",
    "\n",
    "train_set_size = len(os.listdir(os.path.join(input_path,'train/images')))\n",
    "val_set_size = len(os.listdir(os.path.join(input_path,'validation/images')))\n",
    "\n",
    "# Plotting the bar graph\n",
    "folders = ['Train Images', 'Validation Images']\n",
    "sizes = [train_set_size, val_set_size]\n",
    "\n",
    "plt.figure(figsize=(12, 8)) \n",
    "bars = plt.bar(folders, sizes, color=['blue', 'green'])\n",
    "plt.xlabel('Splits')\n",
    "plt.ylabel('Size')\n",
    "plt.title('Size of Train and Validation Datasets')\n",
    "for bar, size in zip(bars, sizes):\n",
    "    plt.text(bar.get_x() + bar.get_width() / 2, \n",
    "             bar.get_height(), \n",
    "             f'{size}', \n",
    "             ha='center', \n",
    "             va='bottom',\n",
    "             fontsize=12,   # Adjust font size\n",
    "             fontweight='bold')\n",
    "\n",
    "plt.show()\n",
    "\n"
   ]
  },
  {
   "cell_type": "code",
   "execution_count": 36,
   "metadata": {},
   "outputs": [
    {
     "data": {
      "image/png": "[encoded data removed]",
      "text/plain": [
       "<Figure size 1296x432 with 1 Axes>"
      ]
     },
     "metadata": {
      "needs_background": "light"
     },
     "output_type": "display_data"
    },
    {
     "data": {
      "image/png": "[encoded data removed]",
      "text/plain": [
       "<Figure size 1296x432 with 1 Axes>"
      ]
     },
     "metadata": {
      "needs_background": "light"
     },
     "output_type": "display_data"
    }
   ],
   "source": [
    "import matplotlib.pyplot as plt\n",
    "\n",
    "# Example dictionaries containing category occurrences for training and validation datasets\n",
    "\n",
    "# Extract category names and occurrences for training data\n",
    "categories_training = list(train_labels_counts.keys())\n",
    "training_counts = list(train_labels_counts.values())\n",
    "\n",
    "# Plot for training data\n",
    "plt.figure(figsize=(18, 6))\n",
    "plt.bar(categories_training, training_counts, color='skyblue')\n",
    "plt.xlabel('Categories')\n",
    "plt.ylabel('Occurrences')\n",
    "plt.title('Occurrences of Categories in Training Dataset')\n",
    "plt.xticks(rotation=90)\n",
    "plt.tight_layout()\n",
    "plt.show()\n",
    "\n",
    "# Extract category names and occurrences for validation data\n",
    "\n",
    "categories_validation = list(train_labels_counts.keys())\n",
    "validation_counts = list(val_labels_counts.values())\n",
    "\n",
    "# Plot for validation data\n",
    "plt.figure(figsize=(18, 6))\n",
    "plt.bar(categories_validation, validation_counts, color='salmon')\n",
    "plt.xlabel('Categories')\n",
    "plt.ylabel('Occurrences')\n",
    "plt.title('Occurrences of Categories in Validation Dataset')\n",
    "plt.xticks(rotation=90)\n",
    "plt.tight_layout()\n",
    "plt.show()\n"
   ]
  },
  {
   "cell_type": "code",
   "execution_count": 60,
   "metadata": {},
   "outputs": [
    {
     "data": {
      "text/plain": [
       "[0,\n",
       " 1,\n",
       " 2,\n",
       " 3,\n",
       " 4,\n",
       " 5,\n",
       " 6,\n",
       " 7,\n",
       " 8,\n",
       " 9,\n",
       " 10,\n",
       " 12,\n",
       " 13,\n",
       " 14,\n",
       " 15,\n",
       " 16,\n",
       " 17,\n",
       " 18,\n",
       " 19,\n",
       " 20,\n",
       " 21,\n",
       " 22,\n",
       " 23,\n",
       " 24,\n",
       " 26,\n",
       " 27,\n",
       " 30,\n",
       " 31,\n",
       " 32,\n",
       " 33,\n",
       " 34,\n",
       " 35,\n",
       " 36,\n",
       " 37,\n",
       " 38,\n",
       " 39,\n",
       " 40,\n",
       " 41,\n",
       " 42,\n",
       " 43,\n",
       " 45,\n",
       " 46,\n",
       " 47,\n",
       " 48,\n",
       " 49,\n",
       " 50,\n",
       " 51,\n",
       " 52,\n",
       " 53,\n",
       " 54,\n",
       " 55,\n",
       " 56,\n",
       " 57,\n",
       " 58,\n",
       " 59,\n",
       " 60,\n",
       " 61,\n",
       " 62,\n",
       " 63,\n",
       " 64,\n",
       " 66,\n",
       " 69,\n",
       " 71,\n",
       " 72,\n",
       " 73,\n",
       " 74,\n",
       " 75,\n",
       " 76,\n",
       " 77,\n",
       " 78,\n",
       " 79,\n",
       " 80,\n",
       " 81,\n",
       " 83,\n",
       " 84,\n",
       " 85,\n",
       " 86,\n",
       " 87,\n",
       " 88,\n",
       " 89]"
      ]
     },
     "execution_count": 60,
     "metadata": {},
     "output_type": "execute_result"
    }
   ],
   "source": [
    "categories_training"
   ]
  },
  {
   "cell_type": "code",
   "execution_count": 40,
   "metadata": {},
   "outputs": [
    {
     "data": {
      "image/png": "[encoded data removed]",
      "text/plain": [
       "<Figure size 864x576 with 2 Axes>"
      ]
     },
     "metadata": {
      "needs_background": "light"
     },
     "output_type": "display_data"
    }
   ],
   "source": [
    "import pandas as pd\n",
    "import seaborn as sns\n",
    "import matplotlib.pyplot as plt\n",
    "\n",
    "# Example dictionaries containing category occurrences for training and validation datasets\n",
    "\n",
    "\n",
    "\n",
    "categories_training = list(train_labels_counts.keys())\n",
    "training_counts = list(train_labels_counts.values())\n",
    "\n",
    "categories_validation = list(train_labels_counts.keys())\n",
    "validation_counts = list(val_labels_counts.values())\n",
    "\n",
    "# Create a dataframe for training data\n",
    "training_df = pd.DataFrame({'Category': categories_training, 'Count_Training': training_counts})\n",
    "\n",
    "# Create a dataframe for validation data\n",
    "validation_df = pd.DataFrame({'Category': categories_validation, 'Count_Validation': validation_counts})\n",
    "\n",
    "# Merge the dataframes\n",
    "merged_df = training_df.merge(validation_df, on='Category', how='outer')\n",
    "\n",
    "# Fill NaN values with 0\n",
    "merged_df.fillna(0, inplace=True)\n",
    "\n",
    "# Create the pivot table\n",
    "pivot_df = merged_df.pivot_table(index='Category', values=['Count_Training', 'Count_Validation'])\n",
    "\n",
    "# Plotting the heatmap\n",
    "plt.figure(figsize=(12, 8))\n",
    "sns.heatmap(pivot_df, cmap='coolwarm', annot=True, fmt=\"d\", linewidths=.5)\n",
    "plt.title('Occurrences of Categories in Training and Validation Datasets')\n",
    "plt.xlabel('Dataset')\n",
    "plt.ylabel('Category')\n",
    "plt.xticks(ticks=[0.5, 1.5], labels=['Training', 'Validation'])\n",
    "plt.yticks(rotation=0)\n",
    "plt.tight_layout()\n",
    "plt.show()\n"
   ]
  },
  {
   "cell_type": "markdown",
   "metadata": {},
   "source": [
    "#### 5. Preprocessing"
   ]
  },
  {
   "cell_type": "markdown",
   "metadata": {},
   "source": [
    "## Training"
   ]
  },
  {
   "cell_type": "markdown",
   "metadata": {},
   "source": []
  },
  {
   "cell_type": "markdown",
   "metadata": {},
   "source": [
    "#### 1. Reference Experiment\n",
    "\n"
   ]
  },
  {
   "cell_type": "code",
   "execution_count": null,
   "metadata": {},
   "outputs": [],
   "source": [
    "model = YOLO('./model/yolov8n.pt') \n",
    "metrics = model.val(data='coco.yaml')"
   ]
  },
  {
   "cell_type": "markdown",
   "metadata": {},
   "source": [
    "#### 2. Improve on the reference"
   ]
  },
  {
   "cell_type": "code",
   "execution_count": null,
   "metadata": {},
   "outputs": [],
   "source": [
    "model = YOLO('./model/yolov8n.pt')  \n",
    "\n",
    "# Train the model\n",
    "results = model.train(data='coco.yaml', epochs=1, imgsz=640)\n",
    "\n",
    "# inference \n",
    "\n",
    "model = YOLO('./model/yolov8n.pt') \n",
    "metrics = model.val(data='coco.yaml')"
   ]
  },
  {
   "cell_type": "markdown",
   "metadata": {},
   "source": []
  },
  {
   "cell_type": "code",
   "execution_count": null,
   "metadata": {},
   "outputs": [],
   "source": []
  },
  {
   "cell_type": "code",
   "execution_count": null,
   "metadata": {},
   "outputs": [],
   "source": []
  },
  {
   "cell_type": "code",
   "execution_count": null,
   "metadata": {},
   "outputs": [],
   "source": []
  },
  {
   "cell_type": "markdown",
   "metadata": {},
   "source": [
    "## Experiment"
   ]
  },
  {
   "cell_type": "code",
   "execution_count": 27,
   "metadata": {},
   "outputs": [],
   "source": [
    "import os\n",
    "from PIL import Image\n",
    "import torch\n",
    "from torch.utils.data import Dataset, DataLoader\n",
    "from torchvision import transforms\n",
    "\n",
    "class YOLODataset(Dataset):\n",
    "    def __init__(self, root_dir, transform=None):\n",
    "        self.root_dir = root_dir\n",
    "        self.transform = transform\n",
    "        self.image_folder = os.path.join(root_dir, \"images\")\n",
    "        self.label_folder = os.path.join(root_dir, \"labels\")\n",
    "        self.image_filenames = os.listdir(self.image_folder)\n",
    "\n",
    "    def __len__(self):\n",
    "        return len(self.image_filenames)\n",
    "\n",
    "    def __getitem__(self, idx):\n",
    "        img_name = os.path.join(self.image_folder, self.image_filenames[idx])\n",
    "        label_name = os.path.join(self.label_folder, self.image_filenames[idx].replace(\".jpg\", \".txt\"))\n",
    "\n",
    "        image = Image.open(img_name).convert(\"RGB\")\n",
    "        \n",
    "       # Load labels\n",
    "        with open(label_name, \"r\") as file:\n",
    "            labels = file.readlines()\n",
    "        \n",
    "        targets = []\n",
    "        for label in labels:\n",
    "            # Parse label: x_center, y_center, width, height, class_id\n",
    "            label_parts = label.strip().split()\n",
    "            class_id = int(label_parts[0])\n",
    "            x_center = float(label_parts[1])\n",
    "            y_center = float(label_parts[2])\n",
    "            width = float(label_parts[3])\n",
    "            height = float(label_parts[4])\n",
    "\n",
    "            targets.append([x_center, y_center, width, height,class_id])\n",
    "\n",
    "        # Convert to PyTorch tensor\n",
    "        targets = torch.tensor(targets)\n",
    "\n",
    "        # Apply transformations if specified\n",
    "        if self.transform:\n",
    "            image = self.transform(image)\n",
    "        \n",
    "        return image, targets\n",
    "\n",
    "# Define transformation to apply to the images\n",
    "transform = transforms.Compose([\n",
    "    transforms.Resize((256, 256)),\n",
    "    transforms.ToTensor()\n",
    "])\n",
    "\n",
    "# Define paths to train and validation datasets\n",
    "train_dataset = YOLODataset(root_dir='./dataset/train', transform=transform)\n",
    "val_dataset = YOLODataset(root_dir='./dataset/validation', transform=transform)\n",
    "\n",
    "# Create DataLoader objects for train and validation datasets\n",
    "train_loader = DataLoader(train_dataset, batch_size=1, shuffle=False)\n",
    "val_loader = DataLoader(val_dataset, batch_size=1, shuffle=False)\n"
   ]
  },
  {
   "cell_type": "code",
   "execution_count": 2,
   "metadata": {},
   "outputs": [],
   "source": [
    "from ultralytics import YOLO\n",
    "model = YOLO('./model/yolov8n.pt') "
   ]
  },
  {
   "cell_type": "code",
   "execution_count": 15,
   "metadata": {},
   "outputs": [
    {
     "name": "stdout",
     "output_type": "stream",
     "text": [
      "\n",
      "0: 256x256 1 bicycle, 1 bench, 30.8ms\n",
      "Speed: 0.0ms preprocess, 30.8ms inference, 0.8ms postprocess per image at shape (1, 3, 256, 256)\n"
     ]
    },
    {
     "ename": "AttributeError",
     "evalue": "'list' object has no attribute 'size'",
     "output_type": "error",
     "traceback": [
      "\u001b[0;31m---------------------------------------------------------------------------\u001b[0m",
      "\u001b[0;31mAttributeError\u001b[0m                            Traceback (most recent call last)",
      "Input \u001b[0;32mIn [15]\u001b[0m, in \u001b[0;36m<cell line: 8>\u001b[0;34m()\u001b[0m\n\u001b[1;32m     10\u001b[0m predictions \u001b[38;5;241m=\u001b[39m model(imgs)\n\u001b[1;32m     11\u001b[0m \u001b[38;5;66;03m# Calculate loss using FocalLoss instead of the default one\u001b[39;00m\n\u001b[0;32m---> 12\u001b[0m loss \u001b[38;5;241m=\u001b[39m \u001b[43mcriterion\u001b[49m\u001b[43m(\u001b[49m\u001b[43mpredictions\u001b[49m\u001b[43m,\u001b[49m\u001b[43m \u001b[49m\u001b[43mtargets\u001b[49m\u001b[43m)\u001b[49m\n\u001b[1;32m     13\u001b[0m \u001b[38;5;66;03m# Backward and optimize\u001b[39;00m\n\u001b[1;32m     14\u001b[0m loss\u001b[38;5;241m.\u001b[39mbackward()\n",
      "File \u001b[0;32m/opt/anaconda3/lib/python3.9/site-packages/torch/nn/modules/module.py:1511\u001b[0m, in \u001b[0;36mModule._wrapped_call_impl\u001b[0;34m(self, *args, **kwargs)\u001b[0m\n\u001b[1;32m   1509\u001b[0m     \u001b[38;5;28;01mreturn\u001b[39;00m \u001b[38;5;28mself\u001b[39m\u001b[38;5;241m.\u001b[39m_compiled_call_impl(\u001b[38;5;241m*\u001b[39margs, \u001b[38;5;241m*\u001b[39m\u001b[38;5;241m*\u001b[39mkwargs)  \u001b[38;5;66;03m# type: ignore[misc]\u001b[39;00m\n\u001b[1;32m   1510\u001b[0m \u001b[38;5;28;01melse\u001b[39;00m:\n\u001b[0;32m-> 1511\u001b[0m     \u001b[38;5;28;01mreturn\u001b[39;00m \u001b[38;5;28;43mself\u001b[39;49m\u001b[38;5;241;43m.\u001b[39;49m\u001b[43m_call_impl\u001b[49m\u001b[43m(\u001b[49m\u001b[38;5;241;43m*\u001b[39;49m\u001b[43margs\u001b[49m\u001b[43m,\u001b[49m\u001b[43m \u001b[49m\u001b[38;5;241;43m*\u001b[39;49m\u001b[38;5;241;43m*\u001b[39;49m\u001b[43mkwargs\u001b[49m\u001b[43m)\u001b[49m\n",
      "File \u001b[0;32m/opt/anaconda3/lib/python3.9/site-packages/torch/nn/modules/module.py:1520\u001b[0m, in \u001b[0;36mModule._call_impl\u001b[0;34m(self, *args, **kwargs)\u001b[0m\n\u001b[1;32m   1515\u001b[0m \u001b[38;5;66;03m# If we don't have any hooks, we want to skip the rest of the logic in\u001b[39;00m\n\u001b[1;32m   1516\u001b[0m \u001b[38;5;66;03m# this function, and just call forward.\u001b[39;00m\n\u001b[1;32m   1517\u001b[0m \u001b[38;5;28;01mif\u001b[39;00m \u001b[38;5;129;01mnot\u001b[39;00m (\u001b[38;5;28mself\u001b[39m\u001b[38;5;241m.\u001b[39m_backward_hooks \u001b[38;5;129;01mor\u001b[39;00m \u001b[38;5;28mself\u001b[39m\u001b[38;5;241m.\u001b[39m_backward_pre_hooks \u001b[38;5;129;01mor\u001b[39;00m \u001b[38;5;28mself\u001b[39m\u001b[38;5;241m.\u001b[39m_forward_hooks \u001b[38;5;129;01mor\u001b[39;00m \u001b[38;5;28mself\u001b[39m\u001b[38;5;241m.\u001b[39m_forward_pre_hooks\n\u001b[1;32m   1518\u001b[0m         \u001b[38;5;129;01mor\u001b[39;00m _global_backward_pre_hooks \u001b[38;5;129;01mor\u001b[39;00m _global_backward_hooks\n\u001b[1;32m   1519\u001b[0m         \u001b[38;5;129;01mor\u001b[39;00m _global_forward_hooks \u001b[38;5;129;01mor\u001b[39;00m _global_forward_pre_hooks):\n\u001b[0;32m-> 1520\u001b[0m     \u001b[38;5;28;01mreturn\u001b[39;00m \u001b[43mforward_call\u001b[49m\u001b[43m(\u001b[49m\u001b[38;5;241;43m*\u001b[39;49m\u001b[43margs\u001b[49m\u001b[43m,\u001b[49m\u001b[43m \u001b[49m\u001b[38;5;241;43m*\u001b[39;49m\u001b[38;5;241;43m*\u001b[39;49m\u001b[43mkwargs\u001b[49m\u001b[43m)\u001b[49m\n\u001b[1;32m   1522\u001b[0m \u001b[38;5;28;01mtry\u001b[39;00m:\n\u001b[1;32m   1523\u001b[0m     result \u001b[38;5;241m=\u001b[39m \u001b[38;5;28;01mNone\u001b[39;00m\n",
      "File \u001b[0;32m/opt/anaconda3/lib/python3.9/site-packages/ultralytics/utils/loss.py:48\u001b[0m, in \u001b[0;36mFocalLoss.forward\u001b[0;34m(pred, label, gamma, alpha)\u001b[0m\n\u001b[1;32m     45\u001b[0m \u001b[38;5;129m@staticmethod\u001b[39m\n\u001b[1;32m     46\u001b[0m \u001b[38;5;28;01mdef\u001b[39;00m \u001b[38;5;21mforward\u001b[39m(pred, label, gamma\u001b[38;5;241m=\u001b[39m\u001b[38;5;241m1.5\u001b[39m, alpha\u001b[38;5;241m=\u001b[39m\u001b[38;5;241m0.25\u001b[39m):\n\u001b[1;32m     47\u001b[0m \u001b[38;5;250m    \u001b[39m\u001b[38;5;124;03m\"\"\"Calculates and updates confusion matrix for object detection/classification tasks.\"\"\"\u001b[39;00m\n\u001b[0;32m---> 48\u001b[0m     loss \u001b[38;5;241m=\u001b[39m \u001b[43mF\u001b[49m\u001b[38;5;241;43m.\u001b[39;49m\u001b[43mbinary_cross_entropy_with_logits\u001b[49m\u001b[43m(\u001b[49m\u001b[43mpred\u001b[49m\u001b[43m,\u001b[49m\u001b[43m \u001b[49m\u001b[43mlabel\u001b[49m\u001b[43m,\u001b[49m\u001b[43m \u001b[49m\u001b[43mreduction\u001b[49m\u001b[38;5;241;43m=\u001b[39;49m\u001b[38;5;124;43m\"\u001b[39;49m\u001b[38;5;124;43mnone\u001b[39;49m\u001b[38;5;124;43m\"\u001b[39;49m\u001b[43m)\u001b[49m\n\u001b[1;32m     49\u001b[0m     \u001b[38;5;66;03m# p_t = torch.exp(-loss)\u001b[39;00m\n\u001b[1;32m     50\u001b[0m     \u001b[38;5;66;03m# loss *= self.alpha * (1.000001 - p_t) ** self.gamma  # non-zero power for gradient stability\u001b[39;00m\n\u001b[1;32m     51\u001b[0m \n\u001b[1;32m     52\u001b[0m     \u001b[38;5;66;03m# TF implementation https://github.com/tensorflow/addons/blob/v0.7.1/tensorflow_addons/losses/focal_loss.py\u001b[39;00m\n\u001b[1;32m     53\u001b[0m     pred_prob \u001b[38;5;241m=\u001b[39m pred\u001b[38;5;241m.\u001b[39msigmoid()  \u001b[38;5;66;03m# prob from logits\u001b[39;00m\n",
      "File \u001b[0;32m/opt/anaconda3/lib/python3.9/site-packages/torch/nn/functional.py:3196\u001b[0m, in \u001b[0;36mbinary_cross_entropy_with_logits\u001b[0;34m(input, target, weight, size_average, reduce, reduction, pos_weight)\u001b[0m\n\u001b[1;32m   3193\u001b[0m \u001b[38;5;28;01melse\u001b[39;00m:\n\u001b[1;32m   3194\u001b[0m     reduction_enum \u001b[38;5;241m=\u001b[39m _Reduction\u001b[38;5;241m.\u001b[39mget_enum(reduction)\n\u001b[0;32m-> 3196\u001b[0m \u001b[38;5;28;01mif\u001b[39;00m \u001b[38;5;129;01mnot\u001b[39;00m (target\u001b[38;5;241m.\u001b[39msize() \u001b[38;5;241m==\u001b[39m \u001b[38;5;28;43minput\u001b[39;49m\u001b[38;5;241;43m.\u001b[39;49m\u001b[43msize\u001b[49m()):\n\u001b[1;32m   3197\u001b[0m     \u001b[38;5;28;01mraise\u001b[39;00m \u001b[38;5;167;01mValueError\u001b[39;00m(\u001b[38;5;124mf\u001b[39m\u001b[38;5;124m\"\u001b[39m\u001b[38;5;124mTarget size (\u001b[39m\u001b[38;5;132;01m{\u001b[39;00mtarget\u001b[38;5;241m.\u001b[39msize()\u001b[38;5;132;01m}\u001b[39;00m\u001b[38;5;124m) must be the same as input size (\u001b[39m\u001b[38;5;132;01m{\u001b[39;00m\u001b[38;5;28minput\u001b[39m\u001b[38;5;241m.\u001b[39msize()\u001b[38;5;132;01m}\u001b[39;00m\u001b[38;5;124m)\u001b[39m\u001b[38;5;124m\"\u001b[39m)\n\u001b[1;32m   3199\u001b[0m \u001b[38;5;28;01mreturn\u001b[39;00m torch\u001b[38;5;241m.\u001b[39mbinary_cross_entropy_with_logits(\u001b[38;5;28minput\u001b[39m, target, weight, pos_weight, reduction_enum)\n",
      "\u001b[0;31mAttributeError\u001b[0m: 'list' object has no attribute 'size'"
     ]
    }
   ],
   "source": [
    "from ultralytics.utils.loss import FocalLoss\n",
    "from  torch.optim import optimizer\n",
    "\n",
    "# Initialize FocalLoss\n",
    "criterion = FocalLoss()\n",
    "\n",
    "# Then, during your training loop replace the default criterion with FocalLoss\n",
    "for imgs, targets in train_loader:\n",
    "    # Forward pass\n",
    "    predictions = model(imgs)\n",
    "    # Calculate loss using FocalLoss instead of the default one\n",
    "    loss = criterion(predictions, targets)\n",
    "    # Backward and optimize\n",
    "    loss.backward()\n",
    "    optimizer.step()"
   ]
  },
  {
   "cell_type": "code",
   "execution_count": 22,
   "metadata": {},
   "outputs": [],
   "source": [
    "for result in predictions:\n",
    "    boxes = result.boxes  # Boxes object for bounding box outputs\n",
    "    masks = result.masks  # Masks object for segmentation masks outputs\n",
    "    keypoints = result.keypoints  # Keypoints object for pose outputs\n",
    "    probs = result.probs  # Probs object for classification outputs\n",
    "    result.show()  # display to screen"
   ]
  },
  {
   "cell_type": "code",
   "execution_count": 16,
   "metadata": {},
   "outputs": [
    {
     "ename": "AttributeError",
     "evalue": "'list' object has no attribute 'boxes'",
     "output_type": "error",
     "traceback": [
      "\u001b[0;31m---------------------------------------------------------------------------\u001b[0m",
      "\u001b[0;31mAttributeError\u001b[0m                            Traceback (most recent call last)",
      "Input \u001b[0;32mIn [16]\u001b[0m, in \u001b[0;36m<cell line: 1>\u001b[0;34m()\u001b[0m\n\u001b[0;32m----> 1\u001b[0m boxes \u001b[38;5;241m=\u001b[39m \u001b[43mpredictions\u001b[49m\u001b[38;5;241;43m.\u001b[39;49m\u001b[43mboxes\u001b[49m\n\u001b[1;32m      2\u001b[0m probs \u001b[38;5;241m=\u001b[39m predictions\u001b[38;5;241m.\u001b[39mprobs\n",
      "\u001b[0;31mAttributeError\u001b[0m: 'list' object has no attribute 'boxes'"
     ]
    }
   ],
   "source": [
    "boxes = predictions.boxes\n",
    "probs = predictions.probs"
   ]
  },
  {
   "cell_type": "code",
   "execution_count": 32,
   "metadata": {},
   "outputs": [
    {
     "data": {
      "text/plain": [
       "tensor([[0.0067, 0.3068, 0.9963, 0.9968, 0.0022, 0.0508],\n",
       "        [0.0057, 0.3140, 0.9953, 0.9984, 0.0012, 0.0039]])"
      ]
     },
     "execution_count": 32,
     "metadata": {},
     "output_type": "execute_result"
    }
   ],
   "source": [
    "boxes.data/256"
   ]
  },
  {
   "cell_type": "code",
   "execution_count": null,
   "metadata": {},
   "outputs": [],
   "source": [
    "boxes."
   ]
  },
  {
   "cell_type": "code",
   "execution_count": 28,
   "metadata": {},
   "outputs": [
    {
     "data": {
      "text/plain": [
       "tensor([[[ 1.0000,  0.5050,  0.7038,  0.9900,  0.5451],\n",
       "         [13.0000,  0.6103,  0.6420,  0.6327,  0.6831]]])"
      ]
     },
     "execution_count": 28,
     "metadata": {},
     "output_type": "execute_result"
    }
   ],
   "source": [
    "targets"
   ]
  },
  {
   "cell_type": "code",
   "execution_count": null,
   "metadata": {},
   "outputs": [],
   "source": []
  },
  {
   "cell_type": "code",
   "execution_count": null,
   "metadata": {},
   "outputs": [],
   "source": []
  },
  {
   "cell_type": "code",
   "execution_count": null,
   "metadata": {},
   "outputs": [],
   "source": []
  },
  {
   "cell_type": "code",
   "execution_count": null,
   "metadata": {},
   "outputs": [],
   "source": []
  },
  {
   "cell_type": "code",
   "execution_count": null,
   "metadata": {},
   "outputs": [],
   "source": []
  },
  {
   "cell_type": "code",
   "execution_count": null,
   "metadata": {},
   "outputs": [],
   "source": []
  },
  {
   "cell_type": "code",
   "execution_count": null,
   "metadata": {},
   "outputs": [],
   "source": []
  },
  {
   "cell_type": "code",
   "execution_count": null,
   "metadata": {},
   "outputs": [],
   "source": []
  },
  {
   "cell_type": "code",
   "execution_count": null,
   "metadata": {},
   "outputs": [],
   "source": []
  }
 ],
 "metadata": {
  "kernelspec": {
   "display_name": "base",
   "language": "python",
   "name": "python3"
  },
  "language_info": {
   "codemirror_mode": {
    "name": "ipython",
    "version": 3
   },
   "file_extension": ".py",
   "mimetype": "text/x-python",
   "name": "python",
   "nbconvert_exporter": "python",
   "pygments_lexer": "ipython3",
   "version": "3.9.12"
  }
 },
 "nbformat": 4,
 "nbformat_minor": 2
}
