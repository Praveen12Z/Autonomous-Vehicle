{
 "cells": [
  {
   "cell_type": "markdown",
   "metadata": {},
   "source": [
    "## Project Overview"
   ]
  },
  {
   "cell_type": "markdown",
   "metadata": {},
   "source": []
  },
  {
   "cell_type": "markdown",
   "metadata": {},
   "source": [
    "## Set up"
   ]
  },
  {
   "cell_type": "markdown",
   "metadata": {},
   "source": [
    "#### 1. Install dependencies"
   ]
  },
  {
   "cell_type": "code",
   "execution_count": null,
   "metadata": {},
   "outputs": [],
   "source": [
    "!pip install -r requirements.txt"
   ]
  },
  {
   "cell_type": "markdown",
   "metadata": {},
   "source": [
    "#### 2. Imports"
   ]
  },
  {
   "cell_type": "code",
   "execution_count": 1,
   "metadata": {},
   "outputs": [
    {
     "name": "stderr",
     "output_type": "stream",
     "text": [
      "<frozen importlib._bootstrap>:228: RuntimeWarning: scipy._lib.messagestream.MessageStream size changed, may indicate binary incompatibility. Expected 56 from C header, got 64 from PyObject\n",
      "<frozen importlib._bootstrap>:228: RuntimeWarning: scipy._lib.messagestream.MessageStream size changed, may indicate binary incompatibility. Expected 56 from C header, got 64 from PyObject\n"
     ]
    }
   ],
   "source": [
    "import os\n",
    "import fiftyone\n",
    "import json\n",
    "import os\n",
    "import shutil\n",
    "from ultralytics import YOLO\n",
    "from ultralytics.data.converter import convert_coco\n"
   ]
  },
  {
   "cell_type": "markdown",
   "metadata": {},
   "source": []
  },
  {
   "cell_type": "markdown",
   "metadata": {},
   "source": [
    "## Dataset"
   ]
  },
  {
   "cell_type": "markdown",
   "metadata": {},
   "source": [
    "#### 1. Description"
   ]
  },
  {
   "cell_type": "markdown",
   "metadata": {},
   "source": [
    "#### 2. Load data"
   ]
  },
  {
   "cell_type": "code",
   "execution_count": 11,
   "metadata": {},
   "outputs": [
    {
     "name": "stdout",
     "output_type": "stream",
     "text": [
      "Downloading split 'train' to '/Users/daniil.yefimov/Desktop/GitHub/Autonomous-Vehicle/dataset/train' if necessary\n",
      "Downloading annotations to '/Users/daniil.yefimov/Desktop/GitHub/Autonomous-Vehicle/dataset/tmp-download/annotations_trainval2017.zip'\n",
      " 100% |██████|    1.9Gb/1.9Gb [16.5s elapsed, 0s remaining, 114.7Mb/s]      \n",
      "Extracting annotations to '/Users/daniil.yefimov/Desktop/GitHub/Autonomous-Vehicle/dataset/raw/instances_train2017.json'\n",
      "Downloading 84853 images\n",
      " 100% |██████████████| 84853/84853 [1.0h elapsed, 0s remaining, 20.2 images/s]      \n",
      "Writing annotations for 84853 downloaded samples to '/Users/daniil.yefimov/Desktop/GitHub/Autonomous-Vehicle/dataset/train/labels.json'\n",
      "Downloading split 'validation' to '/Users/daniil.yefimov/Desktop/GitHub/Autonomous-Vehicle/dataset/validation' if necessary\n",
      "Found annotations at '/Users/daniil.yefimov/Desktop/GitHub/Autonomous-Vehicle/dataset/raw/instances_val2017.json'\n",
      "Downloading 3574 images\n",
      " 100% |████████████████| 3574/3574 [2.7m elapsed, 0s remaining, 20.1 images/s]      \n",
      "Writing annotations for 3574 downloaded samples to '/Users/daniil.yefimov/Desktop/GitHub/Autonomous-Vehicle/dataset/validation/labels.json'\n",
      "Dataset info written to '/Users/daniil.yefimov/Desktop/GitHub/Autonomous-Vehicle/dataset/info.json'\n",
      "Loading 'coco-2017' split 'train'\n",
      " 100% |█████████████| 84853/84853 [5.8m elapsed, 0s remaining, 241.2 samples/s]      \n",
      "Loading 'coco-2017' split 'validation'\n",
      " 100% |███████████████| 3574/3574 [13.9s elapsed, 0s remaining, 278.7 samples/s]      \n",
      "Dataset 'coco-2017-train-validation' created\n"
     ]
    },
    {
     "data": {
      "text/plain": [
       "'\\ndataset_train.export(\\n    export_dir=\"/Users/daniil.yefimov/Desktop/GitHub/Autonomous-Vehicle/dataset/train\",\\n    dataset_type=fiftyone.types.COCODetectionDataset,\\n    label_field=\"ground_truth\"\\n)\\n'"
      ]
     },
     "execution_count": 11,
     "metadata": {},
     "output_type": "execute_result"
    }
   ],
   "source": [
    "categories = [\"person\",\"bicycle\",\"car\",\"motorcycle\", \"airplane\",\"bus\",\"train\",\"truck\",\"boat\",\"traffic light\",\"fire hydrant\",\"stop sign\",\"parking meter\",\"bench\",\"bird\",\"cat\",\"dog\",\"horse\"]\n",
    "\n",
    "# Load Training dataset\n",
    "dataset = fiftyone.zoo.load_zoo_dataset(\n",
    "    \"coco-2017\",\n",
    "    splits=[\"train\",'validation'],\n",
    "    label_types=\"detections\",\n",
    "    only_matching=True,\n",
    "    classes=categories,\n",
    "    dataset_dir = './dataset'\n",
    "    )\n"
   ]
  },
  {
   "cell_type": "markdown",
   "metadata": {},
   "source": [
    "#### 3. Bring Data into YOLO format"
   ]
  },
  {
   "cell_type": "code",
   "execution_count": null,
   "metadata": {},
   "outputs": [],
   "source": [
    "# Define pathes\n",
    "input_path = './dataset'\n",
    "\n",
    "#train yolo format\n",
    "convert_coco(labels_dir= os.path.join(input_path,'train'),save_dir = './converter_result')\n",
    "shutil.move('./converter_result/labels/labels', os.path.join(input_path,'train/labels'))\n",
    "shutil.rmtree('./converter_result')\n",
    "os.rename(os.path.join(input_path,'train/data'), os.path.join(input_path,'train/images'))\n",
    "\n",
    "\n",
    "#validation yolo format\n",
    "convert_coco(labels_dir=os.path.join(input_path,'validation'),save_dir = './converter_result')\n",
    "shutil.move('./converter_result/labels/labels', os.path.join(input_path,'validation/labels'))\n",
    "shutil.rmtree('./converter_result')\n",
    "os.rename(os.path.join(input_path,'validation/data'), os.path.join(input_path,'validation/images'))\n"
   ]
  },
  {
   "cell_type": "code",
   "execution_count": 52,
   "metadata": {},
   "outputs": [],
   "source": [
    "# Utilities\n",
    "\n",
    "# Read Json file\n",
    "def read_json_file(path):\n",
    "    f = open(path)\n",
    "    data = json.load(f)\n",
    "    f.close()\n",
    "    return data\n",
    "\n",
    "# Load Json anotation: dict_keys(['info', 'licenses', 'categories', 'images', 'annotations'])\n",
    "train_labels = read_json_file(os.path.join(input_path,'train/labels.json'))\n",
    "val_labels = read_json_file(os.path.join(input_path,'validation/labels.json'))"
   ]
  },
  {
   "cell_type": "markdown",
   "metadata": {},
   "source": [
    "#### 4. Dataset Analysis"
   ]
  },
  {
   "cell_type": "markdown",
   "metadata": {},
   "source": [
    "#### 5. Preprocessing"
   ]
  },
  {
   "cell_type": "markdown",
   "metadata": {},
   "source": [
    "## Training"
   ]
  },
  {
   "cell_type": "markdown",
   "metadata": {},
   "source": []
  },
  {
   "cell_type": "markdown",
   "metadata": {},
   "source": [
    "#### 1. Reference Experiment\n",
    "\n"
   ]
  },
  {
   "cell_type": "code",
   "execution_count": null,
   "metadata": {},
   "outputs": [],
   "source": [
    "model = YOLO('./model/yolov8n.pt') \n",
    "metrics = model.val(data='coco.yaml')"
   ]
  },
  {
   "cell_type": "markdown",
   "metadata": {},
   "source": [
    "#### 2. Improve on the reference"
   ]
  },
  {
   "cell_type": "code",
   "execution_count": null,
   "metadata": {},
   "outputs": [],
   "source": [
    "model = YOLO('./model/yolov8n.pt')  \n",
    "\n",
    "# Train the model\n",
    "results = model.train(data='coco.yaml', epochs=1, imgsz=640)\n",
    "\n",
    "# inference \n",
    "\n",
    "model = YOLO('./model/yolov8n.pt') \n",
    "metrics = model.val(data='coco.yaml')"
   ]
  },
  {
   "cell_type": "markdown",
   "metadata": {},
   "source": []
  },
  {
   "cell_type": "code",
   "execution_count": null,
   "metadata": {},
   "outputs": [],
   "source": []
  },
  {
   "cell_type": "code",
   "execution_count": null,
   "metadata": {},
   "outputs": [],
   "source": []
  },
  {
   "cell_type": "code",
   "execution_count": null,
   "metadata": {},
   "outputs": [],
   "source": []
  },
  {
   "cell_type": "code",
   "execution_count": null,
   "metadata": {},
   "outputs": [],
   "source": []
  },
  {
   "cell_type": "code",
   "execution_count": null,
   "metadata": {},
   "outputs": [],
   "source": []
  },
  {
   "cell_type": "code",
   "execution_count": null,
   "metadata": {},
   "outputs": [],
   "source": []
  },
  {
   "cell_type": "code",
   "execution_count": null,
   "metadata": {},
   "outputs": [],
   "source": []
  },
  {
   "cell_type": "code",
   "execution_count": null,
   "metadata": {},
   "outputs": [],
   "source": []
  },
  {
   "cell_type": "code",
   "execution_count": null,
   "metadata": {},
   "outputs": [],
   "source": []
  },
  {
   "cell_type": "code",
   "execution_count": null,
   "metadata": {},
   "outputs": [],
   "source": []
  },
  {
   "cell_type": "code",
   "execution_count": null,
   "metadata": {},
   "outputs": [],
   "source": []
  },
  {
   "cell_type": "code",
   "execution_count": null,
   "metadata": {},
   "outputs": [],
   "source": []
  },
  {
   "cell_type": "code",
   "execution_count": null,
   "metadata": {},
   "outputs": [],
   "source": []
  },
  {
   "cell_type": "code",
   "execution_count": null,
   "metadata": {},
   "outputs": [],
   "source": []
  },
  {
   "cell_type": "code",
   "execution_count": null,
   "metadata": {},
   "outputs": [],
   "source": []
  },
  {
   "cell_type": "code",
   "execution_count": null,
   "metadata": {},
   "outputs": [],
   "source": []
  },
  {
   "cell_type": "code",
   "execution_count": null,
   "metadata": {},
   "outputs": [],
   "source": []
  },
  {
   "cell_type": "code",
   "execution_count": null,
   "metadata": {},
   "outputs": [],
   "source": []
  },
  {
   "cell_type": "code",
   "execution_count": null,
   "metadata": {},
   "outputs": [],
   "source": []
  }
 ],
 "metadata": {
  "kernelspec": {
   "display_name": "base",
   "language": "python",
   "name": "python3"
  },
  "language_info": {
   "codemirror_mode": {
    "name": "ipython",
    "version": 3
   },
   "file_extension": ".py",
   "mimetype": "text/x-python",
   "name": "python",
   "nbconvert_exporter": "python",
   "pygments_lexer": "ipython3",
   "version": "3.9.12"
  }
 },
 "nbformat": 4,
 "nbformat_minor": 2
}
