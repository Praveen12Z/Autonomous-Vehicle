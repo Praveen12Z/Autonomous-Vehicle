{
  "cells": [
    {
      "cell_type": "markdown",
      "metadata": {
        "id": "view-in-github",
        "colab_type": "text"
      },
      "source": [
        "<a href=\"https://colab.research.google.com/github/Praveen12Z/Autonomous-Vehicle/blob/main/project_2.ipynb\" target=\"_parent\"><img src=\"https://colab.research.google.com/assets/colab-badge.svg\" alt=\"Open In Colab\"/></a>"
      ]
    },
    {
      "cell_type": "markdown",
      "metadata": {
        "id": "a2X8HmBwE9df"
      },
      "source": [
        "## Project 2"
      ]
    },
    {
      "cell_type": "markdown",
      "metadata": {
        "id": "gZF7llSGE9dt"
      },
      "source": [
        "Some Project Description"
      ]
    },
    {
      "cell_type": "markdown",
      "metadata": {
        "id": "3sL4BjvyE9dv"
      },
      "source": [
        "### Part 1: Object Detection"
      ]
    },
    {
      "cell_type": "code",
      "execution_count": null,
      "metadata": {
        "id": "nSMCes8xE9dw"
      },
      "outputs": [],
      "source": []
    },
    {
      "cell_type": "markdown",
      "metadata": {
        "id": "dIWTY2gkE9dx"
      },
      "source": [
        "### Part 2: Multi-Object Tracking"
      ]
    },
    {
      "cell_type": "code",
      "execution_count": null,
      "metadata": {
        "id": "shKftlS_E9dy"
      },
      "outputs": [],
      "source": []
    }
  ],
  "metadata": {
    "language_info": {
      "name": "python"
    },
    "colab": {
      "provenance": [],
      "toc_visible": true,
      "include_colab_link": true
    },
    "kernelspec": {
      "name": "python3",
      "display_name": "Python 3"
    }
  },
  "nbformat": 4,
  "nbformat_minor": 0
}